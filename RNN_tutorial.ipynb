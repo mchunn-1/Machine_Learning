{
  "nbformat": 4,
  "nbformat_minor": 0,
  "metadata": {
    "colab": {
      "provenance": []
    },
    "kernelspec": {
      "name": "python3",
      "display_name": "Python 3"
    },
    "language_info": {
      "name": "python"
    }
  },
  "cells": [
    {
      "cell_type": "markdown",
      "source": [
        "#Tutorial: Recurrent Neural Networks\n",
        "\n",
        "This turtorial will suplement the paper \"Deep Learning Prediction of Polycyclic Aromatic Hydrocarbons in the High Arctic\" by Zhao et al. (2019) and will focus on recurrent neural networks (RNN). Through the utilization of bioinformatic tools and techniques, the field of environmental biology has made strides in the analysis of data related to climate change and the health of our planet. With the success of similar research in mind, a proposed idea is to utilize  recurrent neural networks as a means to predict future temperatures in response to concentration of greenhouse gasses in the atmosphere. For this tutorial, a simple time-series dataset pertaining to temperature will be used."
      ],
      "metadata": {
        "id": "TNr8S7D8sab1"
      }
    },
    {
      "cell_type": "markdown",
      "source": [
        "#Importing Example Data \n",
        "\n",
        "Zhao et al. (2019)  used a combination of temporal data spanning over many years in the attmept to predict PHE concentration in the atmosphere. The below dataset is similar in that it contains time series data, though this data includes the  daily temperature over a span of years. This dataset will be used in the attmept to create an RNN model to predict temperature. This first step is importating the dataset and determining which columns will be used. In this case, the data will be pulled and read into this colab from a url given to the built-in 'read_csv' function."
      ],
      "metadata": {
        "id": "WdZUHEZEYEgT"
      }
    },
    {
      "cell_type": "code",
      "execution_count": null,
      "metadata": {
        "id": "-VbcoT7DNa41"
      },
      "outputs": [],
      "source": [
        "import pandas as pd\n",
        "#reads in the dataset and uses only the first column\n",
        "#the data was pulled from https://machinelearningmastery.com/time-series-datasets-for-machine-learning/, authored by Jason Brownlee\n",
        "df = pd.read_csv(\"https://raw.githubusercontent.com/jbrownlee/Datasets/master/daily-min-temperatures.csv\", usecols=[1])\n"
      ]
    },
    {
      "cell_type": "markdown",
      "source": [
        "The plot below shows the time-series data. "
      ],
      "metadata": {
        "id": "MYvFGCVc0R0P"
      }
    },
    {
      "cell_type": "code",
      "source": [
        "import matplotlib.pyplot as pl\n",
        "#plots the data\n",
        "pl.plot(df)\n",
        "#labels the plot axis\n",
        "pl.xlabel('Day')\n",
        "pl.ylabel('Temperature')"
      ],
      "metadata": {
        "colab": {
          "base_uri": "https://localhost:8080/",
          "height": 296
        },
        "id": "NE3pOLQy50zJ",
        "outputId": "e910e37f-9502-40f1-d3e1-60e09724bf35"
      },
      "execution_count": null,
      "outputs": [
        {
          "output_type": "execute_result",
          "data": {
            "text/plain": [
              "Text(0, 0.5, 'Temperature')"
            ]
          },
          "metadata": {},
          "execution_count": 89
        },
        {
          "output_type": "display_data",
          "data": {
            "text/plain": [
              "<Figure size 432x288 with 1 Axes>"
            ],
            "image/png": "[encoded data removed]"
          },
          "metadata": {
            "needs_background": "light"
          }
        }
      ]
    },
    {
      "cell_type": "markdown",
      "source": [
        "#Standardizing and reshaping the data \n",
        "\n",
        "Before the dataset can be used in an RNN, it needs to be split into sets for specified uses (testing/training) and formatted in a way that is readable as input to the model. "
      ],
      "metadata": {
        "id": "Z7qAzhK3YOzx"
      }
    },
    {
      "cell_type": "markdown",
      "source": [
        "###Standardizing the data\n",
        "\n",
        "Standardization is used to create consistency and is needed when data has differing scales. If ever unsure on whether to standardize (or perhaps normalize) data, it is better to do so than not. In this tutorial, an example of stadardization will be shown through using the 'MinMaxScaler\" from sklearn. This will transform the data to values within a given range, in this case the range will be 0-1."
      ],
      "metadata": {
        "id": "7wQ49FB-3Odw"
      }
    },
    {
      "cell_type": "code",
      "source": [
        "'''\n",
        "The code in the following cells is supplemented from the subsequent resources: \n",
        "\"How to use RMSE as loss function in Keras with code examples\" ({https://www.folkstalk.com/2022/10/how-to-use-rmse-as-loss-function-in-keras-with-code-examples.html), \n",
        "\"Understanding simple recurrent neural networks in Keras\" (https://machinelearningmastery.com/understanding-simple-recurrent-neural-networks-in-keras/),\n",
        "\"Sklearn.preprocessing.MinMaxScaler\" (https://scikit-learn.org/stable/modules/generated/sklearn.preprocessing.MinMaxScaler.html).\n",
        "'''\n",
        "import numpy as np\n",
        "from sklearn.preprocessing import MinMaxScaler\n",
        "\n",
        "#putting the data into an array using numpy\n",
        "data_array = np.array(df)\n",
        "#using MinMaxScaler to standardize the data.. values will be between 0 and 1 when the \"standardized\" variable is used\n",
        "standardize = MinMaxScaler(feature_range=(0,1))\n",
        "#the data is transformed using standardization \n",
        "data = standardize.fit_transform(data_array)\n",
        "#data array is flattened into 1D array\n",
        "flat_data = data.flatten()"
      ],
      "metadata": {
        "id": "viZm1H9TP4Sd"
      },
      "execution_count": null,
      "outputs": []
    },
    {
      "cell_type": "markdown",
      "source": [
        "###Generating the testing and training data\n",
        "\n",
        "The dataset will be split into 2 categories: testing and training data. The training set will be comprised of 80% of the total data and the remaining 20% will be allocated to testing. "
      ],
      "metadata": {
        "id": "NXwcXRAHYWjz"
      }
    },
    {
      "cell_type": "code",
      "source": [
        "#finding how many data points there are in order to determine what 80%/20% of the data will be\n",
        "num_data_points = len(flat_data)\n",
        "#number of data points that show be used for training\n",
        "train_number = num_data_points * .8\n",
        "#the first 80% of the data will be used for training (includes indeces from 0-train_number)\n",
        "training_data = flat_data[0:int(train_number)]\n",
        "#the last 20% of the data will be used for testing (includes indeces from train_number-the end)\n",
        "testing_data = flat_data[int(train_number):]"
      ],
      "metadata": {
        "id": "VyPw7rLqYcBy"
      },
      "execution_count": null,
      "outputs": []
    },
    {
      "cell_type": "markdown",
      "source": [
        "Reshaping the training data  "
      ],
      "metadata": {
        "id": "RJpW9MmbYsMm"
      }
    },
    {
      "cell_type": "code",
      "source": [
        "#determining the target indices\n",
        "#91 is used as the time step.. every 91 days the temperature cycle changes \n",
        "train_target_indices = np.arange(91, len(training_data), 91)\n",
        "#from the training data, training_y will be the data points at the target indices\n",
        "training_y = training_data[train_target_indices]\n",
        "training_x = training_data[range(91*len(training_y))]\n",
        "#reshaping the data into a format acceptable \n",
        "training_x = np.reshape(training_x, (len(training_y), 91, 1))  "
      ],
      "metadata": {
        "id": "DZGC5o4iav_L"
      },
      "execution_count": null,
      "outputs": []
    },
    {
      "cell_type": "markdown",
      "source": [
        "Reshaping the testing data "
      ],
      "metadata": {
        "id": "iUcGt5h0dVgh"
      }
    },
    {
      "cell_type": "code",
      "source": [
        "#determining the testing target indices\n",
        "test_target_indices = np.arange(91, len(testing_data), 91)\n",
        "#from the testing data, testing_y will be the data points at the testing target indices\n",
        "testing_y = testing_data[test_target_indices]\n",
        "testing_x = testing_data[range(91*len(testing_y))]\n",
        "#reshaping the data \n",
        "testing_x = np.reshape(testing_x, (len(testing_y), 91, 1))  "
      ],
      "metadata": {
        "id": "TBBUmO_ddVH_"
      },
      "execution_count": null,
      "outputs": []
    },
    {
      "cell_type": "markdown",
      "source": [
        "##Putting together the RNN Model \n",
        "\n",
        "When creating a RNN model, there is no one set requirement for the number of layers to add, nor is there a requirment for the parameters of each layer. For example, Zhao et al. (2019) used a model consisting of 7 layers. Layers 1-6 were LSTM layers followed by a dense 7th layer. Each LSTM Layer had 256 units, and there were a total of 7,113,985 parameters in the model. Though those specifications worked for their study, it is important to tune parameters in accomidation to your specific dataset. For this tutorial, the below model will show three LSTM layers followed by a dense layer. This example model will therefore have far less parameters for training and will be able to be executed in a timely manner."
      ],
      "metadata": {
        "id": "FkJHLEcieHVI"
      }
    },
    {
      "cell_type": "code",
      "source": [
        "#Some functions are not always built in. For example, RMSE is not a built-in metric for loss, though it can be custom built if its utilization is desired.\n",
        "#code was referenced from \"folkstalk.com\"\n",
        "from keras import backend as k\n",
        "def RMSE(observed, predicted):\n",
        "        return k.sqrt(k.mean(k.square(predicted - observed), axis=-1)) \n",
        "#RMSE could then be used in the complie function. Ex. model.compile(loss ='RMSE', optimizer='adam')\n",
        "\n",
        "'''\n",
        "Ex) To create a model with many LSTM layers, as would have been done by Zhao et al. (2019) and other studies off similar stature, the following pattern could be implemented:     \n",
        "\n",
        "model = keras.Sequential()\n",
        "model.add(LSTM(units, return_sequences=True, input_shape=(timesteps,features/dimensions)))\n",
        "model.add(LSTM(units, return_sequences=True))\n",
        "model.add(LSTM(units, return_sequences=True))\n",
        "model.add(LSTM(units, return_sequences=True))\n",
        "...\n",
        "model.add(LSTM(units))\n",
        "model.add(Dense(units))\n",
        "\n",
        "Explanation:\n",
        "Sequential() - allows the model to be constructed layer by layer \n",
        "LSTM - allows the model to learn dependencies between timesteps in the time-series dataset \n",
        "Then last layer added after the LSTM layers is a fully connected 'Dense' layer \n",
        "\n",
        "'''\n",
        "#imports needed to create the RNN model\n",
        "from tensorflow import keras\n",
        "from keras.models import Sequential\n",
        "from keras.layers import Dense, LSTM\n",
        "from sklearn.metrics import mean_absolute_error\n",
        "\n",
        "#making the model\n",
        "model = keras.Sequential()\n",
        "#adds first LSTM layer.. returns for next layer, input shape represents timestep (91) and feature count (1)\n",
        "model.add(LSTM(3, return_sequences=True, input_shape=(91,1)))\n",
        "#adds second LSTM layer.. returns for next layer\n",
        "model.add(LSTM(2, return_sequences=True))\n",
        "#adds third LSTM layer \n",
        "model.add(LSTM(1))\n",
        "#adds dense layer\n",
        "model.add(Dense(1))\n",
        "#compiles the model\n",
        "##hyperparameters loss function (MAE) and optimizer(Adam) are utilized \n",
        "model.compile(loss ='mean_absolute_error', optimizer='adam')\n",
        "model.summary()"
      ],
      "metadata": {
        "colab": {
          "base_uri": "https://localhost:8080/"
        },
        "id": "lLHoCFsdeHCO",
        "outputId": "69593db9-633a-406e-cd5e-ee5868793d05"
      },
      "execution_count": null,
      "outputs": [
        {
          "output_type": "stream",
          "name": "stdout",
          "text": [
            "Model: \"sequential_6\"\n",
            "_________________________________________________________________\n",
            " Layer (type)                Output Shape              Param #   \n",
            "=================================================================\n",
            " lstm_18 (LSTM)              (None, 91, 3)             60        \n",
            "                                                                 \n",
            " lstm_19 (LSTM)              (None, 91, 2)             48        \n",
            "                                                                 \n",
            " lstm_20 (LSTM)              (None, 1)                 16        \n",
            "                                                                 \n",
            " dense_6 (Dense)             (None, 1)                 2         \n",
            "                                                                 \n",
            "=================================================================\n",
            "Total params: 126\n",
            "Trainable params: 126\n",
            "Non-trainable params: 0\n",
            "_________________________________________________________________\n"
          ]
        }
      ]
    },
    {
      "cell_type": "markdown",
      "source": [
        "Call fit method to perform training "
      ],
      "metadata": {
        "id": "p1vK_wCBekEd"
      }
    },
    {
      "cell_type": "code",
      "source": [
        "#fits the model.. iterates 150 times and shows the loss  \n",
        "model.fit(training_x, training_y, epochs=150, batch_size=1, verbose=1)"
      ],
      "metadata": {
        "colab": {
          "base_uri": "https://localhost:8080/"
        },
        "id": "cm-AMB8AetJ1",
        "outputId": "e90f0c0c-a051-4bd9-e6c2-8463e2ccb11b"
      },
      "execution_count": null,
      "outputs": [
        {
          "output_type": "stream",
          "name": "stdout",
          "text": [
            "Epoch 1/150\n",
            "32/32 [==============================] - 6s 52ms/step - loss: 0.3322\n",
            "Epoch 2/150\n",
            "32/32 [==============================] - 2s 51ms/step - loss: 0.2217\n",
            "Epoch 3/150\n",
            "32/32 [==============================] - 2s 51ms/step - loss: 0.1567\n",
            "Epoch 4/150\n",
            "32/32 [==============================] - 2s 74ms/step - loss: 0.1359\n",
            "Epoch 5/150\n",
            "32/32 [==============================] - 2s 56ms/step - loss: 0.1259\n",
            "Epoch 6/150\n",
            "32/32 [==============================] - 2s 50ms/step - loss: 0.1241\n",
            "Epoch 7/150\n",
            "32/32 [==============================] - 2s 49ms/step - loss: 0.1237\n",
            "Epoch 8/150\n",
            "32/32 [==============================] - 2s 50ms/step - loss: 0.1223\n",
            "Epoch 9/150\n",
            "32/32 [==============================] - 2s 51ms/step - loss: 0.1206\n",
            "Epoch 10/150\n",
            "32/32 [==============================] - 2s 51ms/step - loss: 0.1206\n",
            "Epoch 11/150\n",
            "32/32 [==============================] - 2s 56ms/step - loss: 0.1177\n",
            "Epoch 12/150\n",
            "32/32 [==============================] - 2s 52ms/step - loss: 0.1149\n",
            "Epoch 13/150\n",
            "32/32 [==============================] - 2s 54ms/step - loss: 0.1103\n",
            "Epoch 14/150\n",
            "32/32 [==============================] - 2s 58ms/step - loss: 0.1016\n",
            "Epoch 15/150\n",
            "32/32 [==============================] - 2s 55ms/step - loss: 0.0909\n",
            "Epoch 16/150\n",
            "32/32 [==============================] - 2s 55ms/step - loss: 0.0879\n",
            "Epoch 17/150\n",
            "32/32 [==============================] - 2s 54ms/step - loss: 0.0944\n",
            "Epoch 18/150\n",
            "32/32 [==============================] - 2s 58ms/step - loss: 0.0874\n",
            "Epoch 19/150\n",
            "32/32 [==============================] - 2s 57ms/step - loss: 0.0843\n",
            "Epoch 20/150\n",
            "32/32 [==============================] - 2s 60ms/step - loss: 0.0840\n",
            "Epoch 21/150\n",
            "32/32 [==============================] - 2s 54ms/step - loss: 0.0838\n",
            "Epoch 22/150\n",
            "32/32 [==============================] - 2s 50ms/step - loss: 0.0850\n",
            "Epoch 23/150\n",
            "32/32 [==============================] - 2s 52ms/step - loss: 0.0854\n",
            "Epoch 24/150\n",
            "32/32 [==============================] - 2s 54ms/step - loss: 0.0842\n",
            "Epoch 25/150\n",
            "32/32 [==============================] - 2s 55ms/step - loss: 0.0822\n",
            "Epoch 26/150\n",
            "32/32 [==============================] - 2s 53ms/step - loss: 0.0818\n",
            "Epoch 27/150\n",
            "32/32 [==============================] - 2s 52ms/step - loss: 0.0862\n",
            "Epoch 28/150\n",
            "32/32 [==============================] - 2s 54ms/step - loss: 0.0824\n",
            "Epoch 29/150\n",
            "32/32 [==============================] - 2s 52ms/step - loss: 0.0833\n",
            "Epoch 30/150\n",
            "32/32 [==============================] - 2s 52ms/step - loss: 0.0825\n",
            "Epoch 31/150\n",
            "32/32 [==============================] - 2s 51ms/step - loss: 0.0861\n",
            "Epoch 32/150\n",
            "32/32 [==============================] - 2s 51ms/step - loss: 0.0818\n",
            "Epoch 33/150\n",
            "32/32 [==============================] - 2s 50ms/step - loss: 0.0817\n",
            "Epoch 34/150\n",
            "32/32 [==============================] - 2s 49ms/step - loss: 0.0831\n",
            "Epoch 35/150\n",
            "32/32 [==============================] - 2s 48ms/step - loss: 0.0813\n",
            "Epoch 36/150\n",
            "32/32 [==============================] - 2s 49ms/step - loss: 0.0822\n",
            "Epoch 37/150\n",
            "32/32 [==============================] - 2s 50ms/step - loss: 0.0813\n",
            "Epoch 38/150\n",
            "32/32 [==============================] - 2s 75ms/step - loss: 0.0830\n",
            "Epoch 39/150\n",
            "32/32 [==============================] - 2s 57ms/step - loss: 0.0807\n",
            "Epoch 40/150\n",
            "32/32 [==============================] - 2s 49ms/step - loss: 0.0868\n",
            "Epoch 41/150\n",
            "32/32 [==============================] - 2s 50ms/step - loss: 0.0821\n",
            "Epoch 42/150\n",
            "32/32 [==============================] - 2s 49ms/step - loss: 0.0806\n",
            "Epoch 43/150\n",
            "32/32 [==============================] - 2s 48ms/step - loss: 0.0817\n",
            "Epoch 44/150\n",
            "32/32 [==============================] - 2s 49ms/step - loss: 0.0820\n",
            "Epoch 45/150\n",
            "32/32 [==============================] - 2s 50ms/step - loss: 0.0804\n",
            "Epoch 46/150\n",
            "32/32 [==============================] - 2s 50ms/step - loss: 0.0790\n",
            "Epoch 47/150\n",
            "32/32 [==============================] - 2s 49ms/step - loss: 0.0800\n",
            "Epoch 48/150\n",
            "32/32 [==============================] - 2s 49ms/step - loss: 0.0816\n",
            "Epoch 49/150\n",
            "32/32 [==============================] - 2s 55ms/step - loss: 0.0813\n",
            "Epoch 50/150\n",
            "32/32 [==============================] - 2s 51ms/step - loss: 0.0798\n",
            "Epoch 51/150\n",
            "32/32 [==============================] - 2s 52ms/step - loss: 0.0779\n",
            "Epoch 52/150\n",
            "32/32 [==============================] - 2s 50ms/step - loss: 0.0841\n",
            "Epoch 53/150\n",
            "32/32 [==============================] - 2s 50ms/step - loss: 0.0813\n",
            "Epoch 54/150\n",
            "32/32 [==============================] - 2s 51ms/step - loss: 0.0796\n",
            "Epoch 55/150\n",
            "32/32 [==============================] - 2s 50ms/step - loss: 0.0798\n",
            "Epoch 56/150\n",
            "32/32 [==============================] - 2s 55ms/step - loss: 0.0783\n",
            "Epoch 57/150\n",
            "32/32 [==============================] - 2s 57ms/step - loss: 0.0820\n",
            "Epoch 58/150\n",
            "32/32 [==============================] - 2s 53ms/step - loss: 0.0886\n",
            "Epoch 59/150\n",
            "32/32 [==============================] - 2s 50ms/step - loss: 0.0798\n",
            "Epoch 60/150\n",
            "32/32 [==============================] - 2s 51ms/step - loss: 0.0784\n",
            "Epoch 61/150\n",
            "32/32 [==============================] - 2s 53ms/step - loss: 0.0779\n",
            "Epoch 62/150\n",
            "32/32 [==============================] - 2s 52ms/step - loss: 0.0786\n",
            "Epoch 63/150\n",
            "32/32 [==============================] - 2s 53ms/step - loss: 0.0785\n",
            "Epoch 64/150\n",
            "32/32 [==============================] - 2s 53ms/step - loss: 0.0781\n",
            "Epoch 65/150\n",
            "32/32 [==============================] - 2s 52ms/step - loss: 0.0804\n",
            "Epoch 66/150\n",
            "32/32 [==============================] - 2s 54ms/step - loss: 0.0779\n",
            "Epoch 67/150\n",
            "32/32 [==============================] - 2s 59ms/step - loss: 0.0843\n",
            "Epoch 68/150\n",
            "32/32 [==============================] - 2s 57ms/step - loss: 0.0793\n",
            "Epoch 69/150\n",
            "32/32 [==============================] - 2s 55ms/step - loss: 0.0801\n",
            "Epoch 70/150\n",
            "32/32 [==============================] - 2s 55ms/step - loss: 0.0809\n",
            "Epoch 71/150\n",
            "32/32 [==============================] - 2s 60ms/step - loss: 0.0797\n",
            "Epoch 72/150\n",
            "32/32 [==============================] - 2s 71ms/step - loss: 0.0792\n",
            "Epoch 73/150\n",
            "32/32 [==============================] - 2s 59ms/step - loss: 0.0784\n",
            "Epoch 74/150\n",
            "32/32 [==============================] - 2s 55ms/step - loss: 0.0780\n",
            "Epoch 75/150\n",
            "32/32 [==============================] - 2s 54ms/step - loss: 0.0786\n",
            "Epoch 76/150\n",
            "32/32 [==============================] - 2s 51ms/step - loss: 0.0780\n",
            "Epoch 77/150\n",
            "32/32 [==============================] - 2s 52ms/step - loss: 0.0792\n",
            "Epoch 78/150\n",
            "32/32 [==============================] - 2s 52ms/step - loss: 0.0791\n",
            "Epoch 79/150\n",
            "32/32 [==============================] - 2s 53ms/step - loss: 0.0792\n",
            "Epoch 80/150\n",
            "32/32 [==============================] - 2s 51ms/step - loss: 0.0777\n",
            "Epoch 81/150\n",
            "32/32 [==============================] - 2s 53ms/step - loss: 0.0806\n",
            "Epoch 82/150\n",
            "32/32 [==============================] - 2s 56ms/step - loss: 0.0795\n",
            "Epoch 83/150\n",
            "32/32 [==============================] - 2s 52ms/step - loss: 0.0792\n",
            "Epoch 84/150\n",
            "32/32 [==============================] - 2s 49ms/step - loss: 0.0836\n",
            "Epoch 85/150\n",
            "32/32 [==============================] - 2s 52ms/step - loss: 0.0787\n",
            "Epoch 86/150\n",
            "32/32 [==============================] - 2s 51ms/step - loss: 0.0756\n",
            "Epoch 87/150\n",
            "32/32 [==============================] - 2s 51ms/step - loss: 0.0787\n",
            "Epoch 88/150\n",
            "32/32 [==============================] - 2s 52ms/step - loss: 0.0769\n",
            "Epoch 89/150\n",
            "32/32 [==============================] - 2s 51ms/step - loss: 0.0780\n",
            "Epoch 90/150\n",
            "32/32 [==============================] - 2s 50ms/step - loss: 0.0767\n",
            "Epoch 91/150\n",
            "32/32 [==============================] - 2s 50ms/step - loss: 0.0763\n",
            "Epoch 92/150\n",
            "32/32 [==============================] - 2s 51ms/step - loss: 0.0779\n",
            "Epoch 93/150\n",
            "32/32 [==============================] - 2s 51ms/step - loss: 0.0755\n",
            "Epoch 94/150\n",
            "32/32 [==============================] - 2s 51ms/step - loss: 0.0793\n",
            "Epoch 95/150\n",
            "32/32 [==============================] - 2s 50ms/step - loss: 0.0781\n",
            "Epoch 96/150\n",
            "32/32 [==============================] - 2s 50ms/step - loss: 0.0813\n",
            "Epoch 97/150\n",
            "32/32 [==============================] - 2s 52ms/step - loss: 0.0864\n",
            "Epoch 98/150\n",
            "32/32 [==============================] - 2s 51ms/step - loss: 0.0794\n",
            "Epoch 99/150\n",
            "32/32 [==============================] - 2s 51ms/step - loss: 0.0783\n",
            "Epoch 100/150\n",
            "32/32 [==============================] - 2s 51ms/step - loss: 0.0770\n",
            "Epoch 101/150\n",
            "32/32 [==============================] - 2s 50ms/step - loss: 0.0783\n",
            "Epoch 102/150\n",
            "32/32 [==============================] - 2s 49ms/step - loss: 0.0768\n",
            "Epoch 103/150\n",
            "32/32 [==============================] - 2s 49ms/step - loss: 0.0801\n",
            "Epoch 104/150\n",
            "32/32 [==============================] - 2s 50ms/step - loss: 0.0799\n",
            "Epoch 105/150\n",
            "32/32 [==============================] - 2s 52ms/step - loss: 0.0823\n",
            "Epoch 106/150\n",
            "32/32 [==============================] - 2s 72ms/step - loss: 0.0764\n",
            "Epoch 107/150\n",
            "32/32 [==============================] - 2s 57ms/step - loss: 0.0782\n",
            "Epoch 108/150\n",
            "32/32 [==============================] - 2s 51ms/step - loss: 0.0793\n",
            "Epoch 109/150\n",
            "32/32 [==============================] - 2s 53ms/step - loss: 0.0775\n",
            "Epoch 110/150\n",
            "32/32 [==============================] - 2s 50ms/step - loss: 0.0773\n",
            "Epoch 111/150\n",
            "32/32 [==============================] - 2s 51ms/step - loss: 0.0762\n",
            "Epoch 112/150\n",
            "32/32 [==============================] - 2s 53ms/step - loss: 0.0780\n",
            "Epoch 113/150\n",
            "32/32 [==============================] - 2s 50ms/step - loss: 0.0757\n",
            "Epoch 114/150\n",
            "32/32 [==============================] - 2s 51ms/step - loss: 0.0840\n",
            "Epoch 115/150\n",
            "32/32 [==============================] - 2s 50ms/step - loss: 0.0790\n",
            "Epoch 116/150\n",
            "32/32 [==============================] - 2s 49ms/step - loss: 0.0776\n",
            "Epoch 117/150\n",
            "32/32 [==============================] - 2s 50ms/step - loss: 0.0776\n",
            "Epoch 118/150\n",
            "32/32 [==============================] - 2s 49ms/step - loss: 0.0758\n",
            "Epoch 119/150\n",
            "32/32 [==============================] - 2s 50ms/step - loss: 0.0802\n",
            "Epoch 120/150\n",
            "32/32 [==============================] - 2s 50ms/step - loss: 0.0753\n",
            "Epoch 121/150\n",
            "32/32 [==============================] - 2s 49ms/step - loss: 0.0776\n",
            "Epoch 122/150\n",
            "32/32 [==============================] - 2s 51ms/step - loss: 0.0801\n",
            "Epoch 123/150\n",
            "32/32 [==============================] - 2s 50ms/step - loss: 0.0784\n",
            "Epoch 124/150\n",
            "32/32 [==============================] - 2s 49ms/step - loss: 0.0761\n",
            "Epoch 125/150\n",
            "32/32 [==============================] - 2s 51ms/step - loss: 0.0781\n",
            "Epoch 126/150\n",
            "32/32 [==============================] - 2s 51ms/step - loss: 0.0769\n",
            "Epoch 127/150\n",
            "32/32 [==============================] - 2s 49ms/step - loss: 0.0760\n",
            "Epoch 128/150\n",
            "32/32 [==============================] - 2s 50ms/step - loss: 0.0767\n",
            "Epoch 129/150\n",
            "32/32 [==============================] - 2s 48ms/step - loss: 0.0802\n",
            "Epoch 130/150\n",
            "32/32 [==============================] - 2s 47ms/step - loss: 0.0758\n",
            "Epoch 131/150\n",
            "32/32 [==============================] - 2s 50ms/step - loss: 0.0762\n",
            "Epoch 132/150\n",
            "32/32 [==============================] - 2s 49ms/step - loss: 0.0826\n",
            "Epoch 133/150\n",
            "32/32 [==============================] - 2s 50ms/step - loss: 0.0753\n",
            "Epoch 134/150\n",
            "32/32 [==============================] - 2s 49ms/step - loss: 0.0778\n",
            "Epoch 135/150\n",
            "32/32 [==============================] - 2s 49ms/step - loss: 0.0795\n",
            "Epoch 136/150\n",
            "32/32 [==============================] - 2s 53ms/step - loss: 0.0783\n",
            "Epoch 137/150\n",
            "32/32 [==============================] - 2s 49ms/step - loss: 0.0765\n",
            "Epoch 138/150\n",
            "32/32 [==============================] - 2s 52ms/step - loss: 0.0775\n",
            "Epoch 139/150\n",
            "32/32 [==============================] - 2s 52ms/step - loss: 0.0761\n",
            "Epoch 140/150\n",
            "32/32 [==============================] - 2s 53ms/step - loss: 0.0760\n",
            "Epoch 141/150\n",
            "32/32 [==============================] - 2s 74ms/step - loss: 0.0749\n",
            "Epoch 142/150\n",
            "32/32 [==============================] - 2s 54ms/step - loss: 0.0757\n",
            "Epoch 143/150\n",
            "32/32 [==============================] - 2s 49ms/step - loss: 0.0773\n",
            "Epoch 144/150\n",
            "32/32 [==============================] - 2s 50ms/step - loss: 0.0773\n",
            "Epoch 145/150\n",
            "32/32 [==============================] - 2s 48ms/step - loss: 0.0755\n",
            "Epoch 146/150\n",
            "32/32 [==============================] - 2s 49ms/step - loss: 0.0761\n",
            "Epoch 147/150\n",
            "32/32 [==============================] - 2s 51ms/step - loss: 0.0760\n",
            "Epoch 148/150\n",
            "32/32 [==============================] - 2s 49ms/step - loss: 0.0794\n",
            "Epoch 149/150\n",
            "32/32 [==============================] - 2s 48ms/step - loss: 0.0752\n",
            "Epoch 150/150\n",
            "32/32 [==============================] - 2s 49ms/step - loss: 0.0768\n"
          ]
        },
        {
          "output_type": "execute_result",
          "data": {
            "text/plain": [
              "<keras.callbacks.History at 0x7fb1ba24b0d0>"
            ]
          },
          "metadata": {},
          "execution_count": 95
        }
      ]
    },
    {
      "cell_type": "markdown",
      "source": [
        "Using the model to make predictions "
      ],
      "metadata": {
        "id": "eLlp98eoorZb"
      }
    },
    {
      "cell_type": "code",
      "source": [
        "import tensorflow as tf\n",
        "#using the built in \"predict\" frunction to make predictions \n",
        "predictions_train = model.predict(training_x)\n",
        "predicitons_test = model.predict(testing_x)"
      ],
      "metadata": {
        "colab": {
          "base_uri": "https://localhost:8080/"
        },
        "id": "Gxk4EDaP60YJ",
        "outputId": "2a3db5b2-6739-478b-81ec-e56e49c341d4"
      },
      "execution_count": null,
      "outputs": [
        {
          "output_type": "stream",
          "name": "stdout",
          "text": [
            "1/1 [==============================] - 0s 33ms/step\n",
            "1/1 [==============================] - 0s 29ms/step\n"
          ]
        }
      ]
    },
    {
      "cell_type": "markdown",
      "source": [
        "#Evalutating the model \n",
        "There are multiple means by which a model can be evaluated, below will present mean absolute error (MAE), root mean square error (RMSE), mean absolute percentage error (MAPE) and coefficient of determination $R^{2}$. "
      ],
      "metadata": {
        "id": "TVEDZGJmoyzf"
      }
    },
    {
      "cell_type": "markdown",
      "source": [
        "*italicized text*###**MAE**\n",
        "\n",
        "A MAE close to 0 indicates greater accuracy. "
      ],
      "metadata": {
        "id": "uorIHs37-nqy"
      }
    },
    {
      "cell_type": "code",
      "source": [
        "from sklearn.metrics import mean_absolute_error\n",
        "\n",
        "#calculating the MAE of the training data\n",
        "mae_train = (mean_absolute_error(training_y,predictions_train))\n",
        "#calculating the MAE of the testing data \n",
        "mae_test = (mean_absolute_error(testing_y,predicitons_test))\n",
        "print(\"MAPE of training data: \" + str(mae_train))\n",
        "print(\"MAPE of testing data: \" + str(mae_test))\n"
      ],
      "metadata": {
        "colab": {
          "base_uri": "https://localhost:8080/"
        },
        "id": "9A1OD-op-qGx",
        "outputId": "005c3400-d6e5-4a45-f416-c67103951659"
      },
      "execution_count": null,
      "outputs": [
        {
          "output_type": "stream",
          "name": "stdout",
          "text": [
            "MAPE of training data: 0.07442785540645226\n",
            "MAPE of testing data: 0.032635773528551425\n"
          ]
        }
      ]
    },
    {
      "cell_type": "markdown",
      "source": [
        "###**RMSE**\n",
        "\n",
        "A lower RMSE indicates a better fit. "
      ],
      "metadata": {
        "id": "gF1olldV-BzX"
      }
    },
    {
      "cell_type": "code",
      "source": [
        "import math\n",
        "from sklearn.metrics import mean_squared_error\n",
        "\n",
        "#calculating the rmse of the training data.. uses built in math function along with the built in MSE function from sklearn\n",
        "rmse_train = math.sqrt(mean_squared_error(training_y,predictions_train))\n",
        "#calculating the RMSE of the testing data\n",
        "rmse_test = math.sqrt(mean_squared_error(testing_y,predicitons_test))\n",
        "\n",
        "print(\"RMSE of training data: \" + str(rmse_train))\n",
        "print(\"RMSE of testing data: \" + str(rmse_test))"
      ],
      "metadata": {
        "colab": {
          "base_uri": "https://localhost:8080/"
        },
        "id": "hDjZMQMzo1fo",
        "outputId": "d79a2537-70da-4967-9a44-30190b402cd1"
      },
      "execution_count": null,
      "outputs": [
        {
          "output_type": "stream",
          "name": "stdout",
          "text": [
            "RMSE of training data: 0.09015962857483467\n",
            "RMSE of testing data: 0.037410332436601614\n"
          ]
        }
      ]
    },
    {
      "cell_type": "markdown",
      "source": [
        "###**MAPE**\n",
        "\n",
        "The lower the MAPE, the more accurate the model. "
      ],
      "metadata": {
        "id": "yBip4y7R-k09"
      }
    },
    {
      "cell_type": "code",
      "source": [
        "from sklearn.metrics import mean_absolute_percentage_error\n",
        "\n",
        "#calculating MAPE of the training data\n",
        "mape_train = (mean_absolute_percentage_error(training_y,predictions_train))\n",
        "#calculating MAPE of the testing data\n",
        "mape_test = (mean_absolute_percentage_error(testing_y,predicitons_test))\n",
        "\n",
        "print(\"MAPE of training data: \" + str(mape_train))\n",
        "print(\"MAPE of testing data: \" + str(mape_test))"
      ],
      "metadata": {
        "colab": {
          "base_uri": "https://localhost:8080/"
        },
        "id": "SlRP19De-uZo",
        "outputId": "1aa12a47-c146-4c76-c947-439c107bb97a"
      },
      "execution_count": null,
      "outputs": [
        {
          "output_type": "stream",
          "name": "stdout",
          "text": [
            "MAPE of training data: 0.19226078935410856\n",
            "MAPE of testing data: 0.07688012038800657\n"
          ]
        }
      ]
    },
    {
      "cell_type": "markdown",
      "source": [
        "###**Coefficient of determination $R^{2}$**\n",
        "\n",
        "A higher coefficient of determination indicates better fit. "
      ],
      "metadata": {
        "id": "S3b6Y6QdUMMP"
      }
    },
    {
      "cell_type": "code",
      "source": [
        "from sklearn.metrics import r2_score\n",
        "\n",
        "#calculating R^2 of the training data\n",
        "r_train = r2_score(training_y,predictions_train)\n",
        "#calculating R^2 of the testing data\n",
        "r_test = r2_score(testing_y,predicitons_test)\n",
        "\n",
        "print(\"R^2 of training data: \" + str(r_train))\n",
        "print(\"R^2 of testing data: \" + str(r_test))"
      ],
      "metadata": {
        "colab": {
          "base_uri": "https://localhost:8080/"
        },
        "id": "QI2MmPbNUL2x",
        "outputId": "a764da3d-cd18-4dc0-a0b0-774c49a17c77"
      },
      "execution_count": null,
      "outputs": [
        {
          "output_type": "stream",
          "name": "stdout",
          "text": [
            "R^2 of training data: 0.6227956318218013\n",
            "R^2 of testing data: 0.9094175835212669\n"
          ]
        }
      ]
    },
    {
      "cell_type": "markdown",
      "source": [
        "###Visualizing MAE, RMSE, and MAPE scores\n",
        "\n",
        "To keep visualization consistant, coefficient of determination $R^{2}$ is not included since, unlike the other metrics of evalution, a low $R^{2}$ score indicates poor fit. For MAE, RMSE, and MAPE low scores indicates better performance. "
      ],
      "metadata": {
        "id": "zkU6a1n1cnHt"
      }
    },
    {
      "cell_type": "code",
      "source": [
        "import matplotlib.pyplot as plt\n",
        "import numpy as np\n",
        "\n",
        "#setting what will be the bar lables \n",
        "x_labels = ['MAE', 'RMSE', 'MAPE']\n",
        "#suppling the data \n",
        "training_scores = [mae_train, rmse_train, mape_train]\n",
        "testing_scores = [mae_test, rmse_test, mape_test]\n",
        "x = np.arange(len(x_labels)) \n",
        "#creating the mulitple bars.. x-.1/x+.1 sets how close the bars will be...  .2 sets the width of the bars\n",
        "plt.bar(x - .1, training_scores, .2, label = 'Training Dataset')\n",
        "plt.bar(x + .1, testing_scores, .2, label = 'Testing Dataset')\n",
        "#arranges the labels on the x axis from the x_labels array\n",
        "plt.xticks(x, x_labels)\n",
        "plt.ylabel(\"Score\")\n",
        "plt.title(\"Evaluating the RNN model with MAE, RMSE, and MAPE scores\")\n",
        "plt.legend()\n",
        "plt.show()\n",
        "\n"
      ],
      "metadata": {
        "colab": {
          "base_uri": "https://localhost:8080/",
          "height": 281
        },
        "id": "QwBCKZ7idgtY",
        "outputId": "99ef9552-4a89-4b61-bad8-aed247c3b350"
      },
      "execution_count": null,
      "outputs": [
        {
          "output_type": "display_data",
          "data": {
            "text/plain": [
              "<Figure size 432x288 with 1 Axes>"
            ],
            "image/png": "[encoded data removed]"
          },
          "metadata": {
            "needs_background": "light"
          }
        }
      ]
    },
    {
      "cell_type": "markdown",
      "source": [
        "##Plotting the results\n",
        "\n",
        "One way to present results is by plotting the RNN predicted values in comparison to the observed values. Below shows an example implementation of plotting such results. "
      ],
      "metadata": {
        "id": "umKPcWn2LL5l"
      }
    },
    {
      "cell_type": "code",
      "source": [
        "import matplotlib.pyplot as p\n",
        "#assigning the data to variables for readability \n",
        "observed = testing_y\n",
        "predictions = predicitons_test\n",
        "#plotting the observed data\n",
        "p.plot(observed)\n",
        "#plotting the predicted data \n",
        "p.plot(predictions)\n",
        "#Labeling the plot\n",
        "p.legend(['Observed', 'Predicted'])\n",
        "p.xlabel('Timestep')\n",
        "p.ylabel('Temperature (standardized)')\n",
        "p.title('RNN prediction of temperature vs observed temperature ')\n"
      ],
      "metadata": {
        "colab": {
          "base_uri": "https://localhost:8080/",
          "height": 312
        },
        "id": "RIERpCqSsouu",
        "outputId": "9b18f2c7-fdfd-4114-edfe-13f7e527e524"
      },
      "execution_count": null,
      "outputs": [
        {
          "output_type": "execute_result",
          "data": {
            "text/plain": [
              "Text(0.5, 1.0, 'RNN prediction of temperature vs observed temperature ')"
            ]
          },
          "metadata": {},
          "execution_count": 109
        },
        {
          "output_type": "display_data",
          "data": {
            "text/plain": [
              "<Figure size 432x288 with 1 Axes>"
            ],
            "image/png": "[encoded data removed]"
          },
          "metadata": {
            "needs_background": "light"
          }
        }
      ]
    }
  ]
}